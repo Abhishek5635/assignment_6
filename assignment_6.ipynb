{
  "nbformat": 4,
  "nbformat_minor": 0,
  "metadata": {
    "colab": {
      "provenance": []
    },
    "kernelspec": {
      "name": "python3",
      "display_name": "Python 3"
    },
    "language_info": {
      "name": "python"
    }
  },
  "cells": [
    {
      "cell_type": "markdown",
      "source": [
        "1. What are escape characters, and how do you use them?"
      ],
      "metadata": {
        "id": "kW-hUsH72TQw"
      }
    },
    {
      "cell_type": "code",
      "execution_count": null,
      "metadata": {
        "id": "ZLgHl9YQ2N-Q"
      },
      "outputs": [],
      "source": [
        "the characters which are use for represting certain character in string literal is know as excape charater\n",
        "escape character which are used with the help ('\\') backslash followed by special character\n",
        "eg. escape charachers and their use\n",
        "1) \"\\n\": newline \n",
        "2) \"\\t\": tab\n",
        "3) \"\\'\": single quote\n",
        "4) \"\\\"\": double quote\n",
        "5) \"\\\\\": backslash\n"
      ]
    },
    {
      "cell_type": "markdown",
      "source": [
        "2. What do the escape characters n and t stand for?"
      ],
      "metadata": {
        "id": "C27bMF6y4JOY"
      }
    },
    {
      "cell_type": "code",
      "source": [
        "1) \"\\n\" = this escape character stands for creating new in a string\n",
        "\n",
        "2) \"\\t\" = this escape character stands for creating tab  in a string"
      ],
      "metadata": {
        "id": "lMAsitO34UV8"
      },
      "execution_count": null,
      "outputs": []
    },
    {
      "cell_type": "markdown",
      "source": [
        "3. What is the way to include backslash characters in a string?"
      ],
      "metadata": {
        "id": "-RODmqHN4vUe"
      }
    },
    {
      "cell_type": "code",
      "source": [
        "to inclue backslash  character in a string we need add two backslash in a row to represent a single backslash\n",
        "basically we need to add one backslash with escape character\n",
        "eg.\n",
        "print(\"02\\\\07\\\\2000\")"
      ],
      "metadata": {
        "id": "auJeig3p4-bg"
      },
      "execution_count": null,
      "outputs": []
    },
    {
      "cell_type": "markdown",
      "source": [
        "4. The string &quot;Howl&#39;s Moving Castle&quot; is a correct value. Why isn&#39;t the single quote character in the\n",
        "word Howl&#39;s not escaped a problem?"
      ],
      "metadata": {
        "id": "dY4RYgri5wFC"
      }
    },
    {
      "cell_type": "code",
      "source": [
        "If a string literal contains double quotes it does not to add escape character when  there is single quote inside that string literal\n",
        "if we want to use single quote string literal we need to add escape charter.\n",
        "\n",
        "eg. \n",
        "\"Howl's Moving Castle\"\n",
        "'Howl\\'s Moving Castle'"
      ],
      "metadata": {
        "id": "cwOqzXx37IyX"
      },
      "execution_count": null,
      "outputs": []
    },
    {
      "cell_type": "markdown",
      "source": [
        "5. How do you write a string of newlines if you don&#39;t want to use the n character?"
      ],
      "metadata": {
        "id": "JZvkerwG8Ej9"
      }
    },
    {
      "cell_type": "code",
      "source": [
        "#We can use use multi line string literal (\"\"\"\"\"\")\n",
        "print(\"\"\"first line\n",
        "second line\n",
        "third line\"\"\")\n"
      ],
      "metadata": {
        "colab": {
          "base_uri": "https://localhost:8080/"
        },
        "id": "4Z1S__Lg80BW",
        "outputId": "1007df68-f262-4f7c-c93f-e5479005a4e9"
      },
      "execution_count": 1,
      "outputs": [
        {
          "output_type": "stream",
          "name": "stdout",
          "text": [
            "first line\n",
            "second line\n",
            "third line\n"
          ]
        }
      ]
    },
    {
      "cell_type": "markdown",
      "source": [
        "6. What are the values of the given expressions?\n",
        "&#39;Hello, world!&#39;[1]\n",
        "&#39;Hello, world!&#39;[0:5]\n",
        "&#39;Hello, world!&#39;[:5]\n",
        "&#39;Hello, world!&#39;[3:]"
      ],
      "metadata": {
        "id": "waPZ4aI59jVl"
      }
    },
    {
      "cell_type": "code",
      "source": [
        "Problem            = Output\n",
        "\"Hello,world!\"[1]  =  e\n",
        "\"Hello,world!\"[0:5]= Hello\n",
        "\"Hello,world!\"[:5] = Hello\n",
        "\"Hello,world!\"[3:] = lo,world!"
      ],
      "metadata": {
        "colab": {
          "base_uri": "https://localhost:8080/",
          "height": 36
        },
        "id": "r5lu8sZ69a51",
        "outputId": "6a6b0219-1054-4bc6-98c1-4ab3975058a9"
      },
      "execution_count": 3,
      "outputs": [
        {
          "output_type": "execute_result",
          "data": {
            "text/plain": [
              "'Hello'"
            ],
            "application/vnd.google.colaboratory.intrinsic+json": {
              "type": "string"
            }
          },
          "metadata": {},
          "execution_count": 3
        }
      ]
    },
    {
      "cell_type": "markdown",
      "source": [
        "7. What are the values of the following expressions?\n",
        "&#39;Hello&#39;.upper()\n",
        "&#39;Hello&#39;.upper().isupper()\n",
        "&#39;Hello&#39;.upper().lower()"
      ],
      "metadata": {
        "id": "flCxsc_y_ns3"
      }
    },
    {
      "cell_type": "code",
      "source": [
        "Problem                     = Output\n",
        "\"Hello\".upper()             = \"HELLO\"\n",
        "\"Hello\".upper().isupper()   = True (this returns True bacause complete \"Hello\" string is in uppercase)\n",
        "\"Hello\".upper().lower()     = \"hello\"\n"
      ],
      "metadata": {
        "id": "OYXSUSE99x5A"
      },
      "execution_count": null,
      "outputs": []
    },
    {
      "cell_type": "markdown",
      "source": [
        "8. What are the values of the following expressions?\n",
        "&#39;Remember, remember, the fifth of July.&#39;.split()\n",
        "&#39;-&#39;.join(&#39;There can only one.&#39;.split())"
      ],
      "metadata": {
        "id": "0frZzaU1Asdc"
      }
    },
    {
      "cell_type": "code",
      "source": [
        "1) \"Remember, remember, the fifth of July\".split()\n",
        "ans : The above expression will separate the string by spaces and it will return the list of words\n",
        "      ['Remember,', 'remember,', 'the', 'fifth', 'of', 'July']\n",
        "\n",
        "2) '-'.join(\"There can only one.\".split())\n",
        "ans :  The above expression will separate the string by spaces and will return string with containing hyphen.\n",
        "       'There-can-only-one.' "
      ],
      "metadata": {
        "id": "ytZ6Hc4Z_udv"
      },
      "execution_count": null,
      "outputs": []
    },
    {
      "cell_type": "markdown",
      "source": [
        "9. What are the methods for right-justifying, left-justifying, and centering a string?"
      ],
      "metadata": {
        "id": "UIbijrjQCg71"
      }
    },
    {
      "cell_type": "code",
      "source": [
        "str.rjust(width[, fillchar]), str.ljust(width[, fillchar], str.center(width[, fillchar]) \n",
        "these  are the methods for right-justifying, left-justifying, and centering a string.\n",
        "here fillchar used for adding a padding character bedefault it takes as space\n",
        "\n",
        "name = \"abhi\"\n",
        "width =12\n",
        "name.rjust(width)   # this will justify the string left end side with width of 12                              \n",
        "                                        "
      ],
      "metadata": {
        "colab": {
          "base_uri": "https://localhost:8080/",
          "height": 36
        },
        "id": "IExpurxKClak",
        "outputId": "15dbdd0b-15d5-462d-abc9-0d28e94dbabe"
      },
      "execution_count": 9,
      "outputs": [
        {
          "output_type": "execute_result",
          "data": {
            "text/plain": [
              "'        abhi'"
            ],
            "application/vnd.google.colaboratory.intrinsic+json": {
              "type": "string"
            }
          },
          "metadata": {},
          "execution_count": 9
        }
      ]
    },
    {
      "cell_type": "markdown",
      "source": [
        "10. What is the best way to remove whitespace characters from the start or end?"
      ],
      "metadata": {
        "id": "30ecx0ugE4Wt"
      }
    },
    {
      "cell_type": "code",
      "source": [
        "By using strip() method we can remove the whitespace on both side of string.\n",
        "for left side : lstrip()\n",
        "for right side : rstrip()\n",
        "name = \"  abhishek  \"\n",
        "name.strip()"
      ],
      "metadata": {
        "colab": {
          "base_uri": "https://localhost:8080/",
          "height": 36
        },
        "id": "rFcUB7lpEW5l",
        "outputId": "367c30dc-2df5-4034-8b02-bfdaf02f5653"
      },
      "execution_count": 10,
      "outputs": [
        {
          "output_type": "execute_result",
          "data": {
            "text/plain": [
              "'abhishek'"
            ],
            "application/vnd.google.colaboratory.intrinsic+json": {
              "type": "string"
            }
          },
          "metadata": {},
          "execution_count": 10
        }
      ]
    },
    {
      "cell_type": "code",
      "source": [],
      "metadata": {
        "id": "rRrWeDycF1cy"
      },
      "execution_count": null,
      "outputs": []
    }
  ]
}